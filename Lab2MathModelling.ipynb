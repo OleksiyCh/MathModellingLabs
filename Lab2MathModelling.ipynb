{
 "cells": [
  {
   "cell_type": "code",
   "execution_count": 1,
   "metadata": {},
   "outputs": [],
   "source": [
    "import matplotlib.pyplot as plt\n",
    "import numpy as np\n",
    "from matplotlib.patches import RegularPolygon\n",
    "from matplotlib.collections import LineCollection\n"
   ]
  },
  {
   "cell_type": "code",
   "execution_count": null,
   "metadata": {},
   "outputs": [],
   "source": [
    "#Task 1: Використання RegularPolygon. Використання дистрибутив для побудови кола і суміжних об’єктів\n",
    "# Var: 3. Трикутника із сторонами зеленого кольору. \n",
    "# Version 0.1 - Fast\n",
    "\n",
    "def draw_shapes():\n",
    "    fig, ax = plt.subplots()\n",
    "\n",
    "    # Додаємо коло як багатокутник з великою кількістю сторін\n",
    "    circle = RegularPolygon((0.5, 0.5), numVertices=500, radius=0.4, color='blue', alpha=0.3)\n",
    "    ax.add_patch(circle)\n",
    "\n",
    "    # Створимо трикутник з довільними точками і зеленими сторонами\n",
    "    # Точки трикутника (можна змінити для отримання різних форм)\n",
    "    triangle_points = np.array([[0.2, 0.2], [0.4, 0.8], [0.7, 0.3]])\n",
    "    triangle = LineCollection([triangle_points[[0, 1]], triangle_points[[1, 2]], triangle_points[[2, 0]]], colors='green')\n",
    "    ax.add_collection(triangle)\n",
    "\n",
    "    # Налаштування осей\n",
    "    ax.set_xlim(0, 1)\n",
    "    ax.set_ylim(0, 1)\n",
    "    ax.set_aspect('equal')\n",
    "    plt.axis('off')  # Прибираємо осі для кращої візуалізації\n",
    "\n",
    "    plt.show()\n",
    "\n",
    "draw_shapes()"
   ]
  },
  {
   "cell_type": "code",
   "execution_count": 16,
   "metadata": {},
   "outputs": [
    {
     "data": {
      "image/png": "[encoded data removed]",
      "text/plain": [
       "<Figure size 640x480 with 1 Axes>"
      ]
     },
     "metadata": {},
     "output_type": "display_data"
    }
   ],
   "source": [
    "#Task 1: Використання RegularPolygon. Використання дистрибутив для побудови кола і суміжних об’єктів\n",
    "# Var: 3. Трикутника із сторонами зеленого кольору. \n",
    "# Version 0.2 - Better\n",
    " \n",
    "import matplotlib.pyplot as plt\n",
    "import numpy as np\n",
    "\n",
    "def draw_circle_in_triangle(ax, radius, center, triangle_vertices):\n",
    "    \"\"\"\n",
    "    Функція для малювання кола, вписаного в трикутник.\n",
    "    \n",
    "    Параметри:\n",
    "    - ax: об'єкт осей matplotlib, на яких буде намальовано зображення.\n",
    "    - radius: радіус вписаного кола.\n",
    "    - center: координати центру вписаного кола.\n",
    "    - triangle_vertices: координати вершин трикутника.\n",
    "    \"\"\"\n",
    "    # Малюємо трикутник\n",
    "    triangle = plt.Polygon(triangle_vertices, edgecolor='green', fill=None, linewidth=2)\n",
    "    ax.add_patch(triangle)\n",
    "    \n",
    "    # Малюємо коло\n",
    "    circle = plt.Circle(center, radius, color='blue', fill=False)\n",
    "    ax.add_patch(circle)\n",
    "    \n",
    "    # Налаштування меж осей для наочності\n",
    "    ax.set_xlim(-1, 4)\n",
    "    ax.set_ylim(-1, 4)\n",
    "    ax.set_aspect('equal')\n",
    "\n",
    "# Створюємо фігуру та осі\n",
    "fig, ax = plt.subplots()\n",
    "\n",
    "# Координати вершин трикутника (не рівнобедреного і не рівностороннього)\n",
    "triangle_vertices = np.array([[0, 0], [3, 0], [1, 3]])\n",
    "\n",
    "# Центр і радіус вписаного кола (приблизні значення, для демонстрації)\n",
    "center = [1.2, 1]\n",
    "radius = 0.8\n",
    "\n",
    "# Малюємо коло вписане в трикутник\n",
    "draw_circle_in_triangle(ax, radius, center, triangle_vertices)\n",
    "\n",
    "plt.show()\n"
   ]
  },
  {
   "cell_type": "code",
   "execution_count": 3,
   "metadata": {},
   "outputs": [
    {
     "data": {
      "image/png": "[encoded data removed]",
      "text/plain": [
       "<Figure size 640x480 with 1 Axes>"
      ]
     },
     "metadata": {},
     "output_type": "display_data"
    }
   ],
   "source": [
    "#Task 1: Використання RegularPolygon. Використання дистрибутив для побудови кола і суміжних об’єктів\n",
    "# Var: 3. Трикутника із сторонами зеленого кольору. \n",
    "# Version 0.9 - Almost ideal\n",
    "\n",
    "import matplotlib.pyplot as plt\n",
    "from matplotlib.patches import Polygon\n",
    "import numpy as np\n",
    "\n",
    "# Довжини сторін трикутника\n",
    "x = 6\n",
    "a = x \n",
    "b = 1.272 * x\n",
    "c = 1.618 * x\n",
    "\n",
    "# Створення фігури та осей\n",
    "fig, ax = plt.subplots()\n",
    "\n",
    "# Розрахунок висоти трикутника\n",
    "h = np.sqrt(c**2 - b**2)\n",
    "\n",
    "def draw_polygon(polygon_center):\n",
    "    # Розрахунок координат вершин трикутника\n",
    "    A = np.array([0, 0])\n",
    "    B = np.array([c, 0])\n",
    "    C = np.array([0, np.sqrt(c**2 - b**2)])\n",
    "\n",
    "    # Додавання трикутника\n",
    "    triangle = Polygon([A, B, C], edgecolor='green', fill=None, linewidth=2)\n",
    "    ax.add_patch(triangle)\n",
    "\n",
    "    # Радіус вписаного багатокутника (половина периметру, поділена на півпериметр)\n",
    "    s = (a + b + c) / 2  # Півпериметр\n",
    "    polygon_radius = np.sqrt((s - a) * (s - b) * (s - c) / s)\n",
    "\n",
    "    # Створення апроксимованого багатокутника\n",
    "    num_vertices = 500\n",
    "    theta = np.linspace(0, 2*np.pi, num_vertices)\n",
    "    x_polygon = polygon_center[0] + polygon_radius * np.cos(theta)\n",
    "    y_polygon = polygon_center[1] + polygon_radius * np.sin(theta)\n",
    "    polygon_vertices = np.column_stack((x_polygon, y_polygon))\n",
    "\n",
    "    # Перевірка чи є точки ліворуч від (0, 0)\n",
    "    if any(vertex[0] < 0 for vertex in polygon_vertices):\n",
    "        return False\n",
    "    \n",
    "    # Додавання апроксимованого багатокутника\n",
    "    polygon_approx = Polygon(polygon_vertices, edgecolor='blue', facecolor='none')\n",
    "    ax.add_patch(polygon_approx)\n",
    "\n",
    "    return True\n",
    "\n",
    "# Початковий центр вписаного багатокутника\n",
    "polygon_center = np.array([0, h / 3])\n",
    "\n",
    "# Переміщення центру вправо на 0.01\n",
    "polygon_center[0] += 0.01\n",
    "\n",
    "while not draw_polygon(polygon_center):\n",
    "    # Якщо є точки ліворуч від (0, 0), то перестроїти\n",
    "    polygon_center[0] += 0.01\n",
    "\n",
    "# Налаштування меж осей для наочності\n",
    "ax.set_xlim(-1, 13)\n",
    "ax.set_ylim(-1, 8)\n",
    "ax.set_aspect('equal')\n",
    "\n",
    "plt.show()\n"
   ]
  },
  {
   "cell_type": "code",
   "execution_count": 4,
   "metadata": {},
   "outputs": [
    {
     "data": {
      "image/png": "[encoded data removed]",
      "text/plain": [
       "<Figure size 640x480 with 1 Axes>"
      ]
     },
     "metadata": {},
     "output_type": "display_data"
    }
   ],
   "source": [
    "#Task 2: Створити список багатокутників із 9, 7, ..., 3 сторонами. (непарні варіанти)\n",
    "\n",
    "import matplotlib.pyplot as plt\n",
    "from matplotlib.patches import Polygon\n",
    "import numpy as np\n",
    "\n",
    "# Створення фігури та осей\n",
    "fig, ax = plt.subplots()\n",
    "\n",
    "# Створення списку для збереження багатокутників\n",
    "polygons = []\n",
    "\n",
    "# Розмір сторон багатокутників\n",
    "side_length = 1\n",
    "\n",
    "# Створення багатокутників з 9 до 3 сторін\n",
    "sizes = list(range(9, 2, -2))\n",
    "for i, sides in enumerate(sizes):\n",
    "    # Розрахунок координат вершин багатокутника\n",
    "    center = np.array([0, -i * 1.5])  # Центр для розташування багатокутників вертикально з проміжком\n",
    "    radius = side_length / 2  # Радіус, щоб мати заданий розмір сторін\n",
    "\n",
    "    theta = np.linspace(0, 2 * np.pi, sides, endpoint=False)\n",
    "    x_polygon = center[0] + radius * np.cos(theta)\n",
    "    y_polygon = center[1] + radius * np.sin(theta)\n",
    "    polygon_vertices = np.column_stack((x_polygon, y_polygon))\n",
    "\n",
    "    # Додавання багатокутника до списку\n",
    "    polygons.append(Polygon(polygon_vertices, edgecolor='blue', facecolor='none'))\n",
    "\n",
    "# Додавання багатокутників на графік та асоціація з числами\n",
    "for i, polygon in enumerate(polygons):\n",
    "    ax.add_patch(polygon)\n",
    "    ax.text(-1, -i * 1.5, str(sizes[i]), ha='center', va='center')\n",
    "\n",
    "    # Додавання пустої строки\n",
    "    ax.text(-1, -i * 1.5 - 0.5, '', ha='center', va='center')\n",
    "\n",
    "# Приховання осей координат\n",
    "ax.axis('off')\n",
    "\n",
    "# Внутрішня сітка\n",
    "ax.set_xticks([])\n",
    "ax.set_yticks([])\n",
    "\n",
    "# Налаштування меж осей для наочності\n",
    "ax.set_xlim(-2, 2)\n",
    "ax.set_ylim(-len(sizes) * 1.5 + 1, 1)\n",
    "ax.set_aspect('equal')\n",
    "\n",
    "plt.show()\n",
    "\n"
   ]
  },
  {
   "cell_type": "code",
   "execution_count": 5,
   "metadata": {},
   "outputs": [
    {
     "data": {
      "image/png": "[encoded data removed]",
      "text/plain": [
       "<Figure size 640x480 with 1 Axes>"
      ]
     },
     "metadata": {},
     "output_type": "display_data"
    }
   ],
   "source": [
    "# Task 3: Створіть список із 20-стороннього правильного многокутника та диска.\n",
    " \n",
    "import matplotlib.pyplot as plt\n",
    "from matplotlib.patches import Polygon, Circle\n",
    "import numpy as np\n",
    "\n",
    "# Створення фігури та осей\n",
    "fig, ax = plt.subplots()\n",
    "\n",
    "# Розмір сторін багатокутника\n",
    "side_length_polygon = 0.5\n",
    "\n",
    "# Кількість сторін багатокутника\n",
    "num_sides_polygon = 20\n",
    "\n",
    "# Створення правильного багатокутника\n",
    "theta_polygon = np.linspace(0, 2 * np.pi, num_sides_polygon, endpoint=False)\n",
    "x_polygon = side_length_polygon * np.cos(theta_polygon)\n",
    "y_polygon = side_length_polygon * np.sin(theta_polygon)\n",
    "polygon_vertices = np.column_stack((x_polygon, y_polygon))\n",
    "\n",
    "# Створення правильного багатокутника з кількістю сторін num_sides_polygon\n",
    "polygon = Polygon(polygon_vertices, edgecolor='blue', facecolor='none')\n",
    "ax.add_patch(polygon)\n",
    "\n",
    "# Розмір диска\n",
    "radius_circle = 0.7\n",
    "\n",
    "# Створення диска\n",
    "circle = Circle((0, 0), radius_circle, edgecolor='red', facecolor='none')\n",
    "ax.add_patch(circle)\n",
    "\n",
    "# Приховання осей координат\n",
    "ax.axis('off')\n",
    "\n",
    "# Внутрішня сітка\n",
    "ax.set_xticks([])\n",
    "ax.set_yticks([])\n",
    "\n",
    "# Налаштування меж осей для наочності\n",
    "ax.set_xlim(-1.5, 1.5)\n",
    "ax.set_ylim(-1.5, 1.5)\n",
    "ax.set_aspect('equal')\n",
    "\n",
    "plt.show()\n",
    "\n",
    "\n"
   ]
  },
  {
   "cell_type": "code",
   "execution_count": 6,
   "metadata": {},
   "outputs": [
    {
     "data": {
      "image/png": "[encoded data removed]",
      "text/plain": [
       "<Figure size 640x480 with 1 Axes>"
      ]
     },
     "metadata": {},
     "output_type": "display_data"
    }
   ],
   "source": [
    "# Task 4 Створіть список із 10 правильних п’ятикутників із випадковими кольорами. \n",
    "\n",
    "import matplotlib.pyplot as plt\n",
    "from matplotlib.patches import RegularPolygon\n",
    "import numpy as np\n",
    "import random\n",
    "\n",
    "# Створення фігури та осей\n",
    "fig, ax = plt.subplots()\n",
    "\n",
    "# Вимкнення сітки\n",
    "ax.set_xticks([])\n",
    "ax.set_yticks([])\n",
    "\n",
    "# Кількість правильних п'ятикутників\n",
    "num_pentagons = 10\n",
    "\n",
    "# Розташування п'ятикутників в стовпчик\n",
    "for i in range(num_pentagons):\n",
    "    # Випадковий радіус і кут повороту для кожного п'ятикутника\n",
    "    radius = np.random.uniform(0.1, 0.5)\n",
    "    rotation_angle = np.random.uniform(0, 360)\n",
    "\n",
    "    # Координати центра п'ятикутника для розташування в стовпчик\n",
    "    center_x = 0\n",
    "    center_y = -i * 0.7\n",
    "\n",
    "    # Випадковий колір\n",
    "    color = random.choice(['red', 'green', 'blue', 'yellow', 'orange', 'purple', 'pink', 'brown'])\n",
    "\n",
    "    # Створення правильного п'ятикутника\n",
    "    pentagon = RegularPolygon((center_x, center_y), numVertices=5, radius=radius, orientation=np.radians(rotation_angle), edgecolor='black', facecolor=color)\n",
    "    \n",
    "    # Додавання п'ятикутника до графіку\n",
    "    ax.add_patch(pentagon)\n",
    "\n",
    "    # Асоціація з номером п'ятикутника\n",
    "    ax.text(0.5, center_y, str(i+1), ha='center', va='center')\n",
    "\n",
    "# Налаштування меж осей для наочності\n",
    "ax.set_xlim(-1, 1)\n",
    "ax.set_ylim(-num_pentagons * 0.7 - 0.5, 1)\n",
    "ax.set_aspect('equal')\n",
    "\n",
    "# Виведення графіку\n",
    "plt.show()\n",
    "\n"
   ]
  },
  {
   "cell_type": "code",
   "execution_count": 7,
   "metadata": {},
   "outputs": [
    {
     "data": {
      "image/png": "[encoded data removed]",
      "text/plain": [
       "<Figure size 640x480 with 1 Axes>"
      ]
     },
     "metadata": {},
     "output_type": "display_data"
    }
   ],
   "source": [
    "# Task 5 Складіть список полігонів з 8, 7, 6, ..., 3 сторонами і розфарбуйте їх за допомогою RandomColor (Wolfram),\n",
    "# потім покажіть їх накладеними на трикутник зверху (підказка: застосуйте Graphics до списку).\n",
    "\n",
    "import matplotlib.pyplot as plt\n",
    "from matplotlib.patches import RegularPolygon\n",
    "import numpy as np\n",
    "import random\n",
    "\n",
    "# Створення фігури та осей\n",
    "fig, ax = plt.subplots()\n",
    "\n",
    "# Розрахунок координат вершин трикутника\n",
    "A = np.array([0, 0])\n",
    "B = np.array([6, 0])\n",
    "C = np.array([3, np.sqrt(27)])\n",
    "\n",
    "# Додавання трикутника до графіку\n",
    "triangle = RegularPolygon((A[0], A[1]), numVertices=3, radius=1, edgecolor='black', facecolor='none')\n",
    "ax.add_patch(triangle)\n",
    "\n",
    "# Створення списку полігонів з 8, 7, 6, ..., 3 сторонами та розфарбування їх\n",
    "polygons = []\n",
    "for sides in range(8, 2, -1):\n",
    "    # Випадковий колір\n",
    "    color = [random.uniform(0, 1), random.uniform(0, 1), random.uniform(0, 1)]\n",
    "\n",
    "    # Створення полігона з заданою кількістю сторін та випадковим кольором\n",
    "    polygon = RegularPolygon((0, 0), numVertices=sides, radius=0.2, edgecolor='black', facecolor=color)\n",
    "    \n",
    "    # Додавання полігона до списку\n",
    "    polygons.append(polygon)\n",
    "\n",
    "# Виведення графіку\n",
    "ax.set_aspect('equal')\n",
    "\n",
    "# Відобразити полігони на графіку\n",
    "for polygon in polygons:\n",
    "    ax.add_patch(polygon)\n",
    "\n",
    "# Приховати координатну сітку\n",
    "ax.set_xticks([])\n",
    "ax.set_yticks([])\n",
    "\n",
    "# Налаштувати межі для наочності\n",
    "ax.set_xlim(-1, 1)\n",
    "ax.set_ylim(-1, 1)\n",
    "\n",
    "# Приховати координатні вісі\n",
    "ax.axis('off')\n",
    "\n",
    "plt.show()\n"
   ]
  },
  {
   "cell_type": "code",
   "execution_count": 8,
   "metadata": {},
   "outputs": [
    {
     "data": {
      "image/png": "[encoded data removed]",
      "text/plain": [
       "<Figure size 640x480 with 1 Axes>"
      ]
     },
     "metadata": {},
     "output_type": "display_data"
    }
   ],
   "source": [
    "# Task 6 Створіть список правильних багатокутників із 5-10 сторонами, причому кожен багатокутник пофарбований у рожевий колір.\n",
    "\n",
    "import matplotlib.pyplot as plt\n",
    "from matplotlib.patches import RegularPolygon\n",
    "import numpy as np\n",
    "\n",
    "# Створення фігури та осей\n",
    "fig, ax = plt.subplots()\n",
    "\n",
    "# Список кількостей сторін для багатокутників\n",
    "num_sides_list = list(range(5, 11))\n",
    "\n",
    "# Розмір сторін багатокутників\n",
    "side_length = 1\n",
    "\n",
    "# Розташування центра багатокутників\n",
    "centers = [(i * 2, 0) for i in range(len(num_sides_list))]\n",
    "\n",
    "# Створення та відображення багатокутників\n",
    "for num_sides, center in zip(num_sides_list, centers):\n",
    "    polygon = RegularPolygon(center, numVertices=num_sides, radius=side_length, edgecolor='black', facecolor='pink')\n",
    "    ax.add_patch(polygon)\n",
    "\n",
    "# Приховання координатної сітки\n",
    "ax.set_axis_off()\n",
    "\n",
    "# Налаштування меж осей для наочності\n",
    "ax.set_xlim(-2, 14)\n",
    "ax.set_ylim(-2, 2)\n",
    "ax.set_aspect('equal')\n",
    "\n",
    "plt.show()\n",
    "\n"
   ]
  },
  {
   "cell_type": "code",
   "execution_count": 9,
   "metadata": {},
   "outputs": [
    {
     "data": {
      "image/png": "[encoded data removed]",
      "text/plain": [
       "<Figure size 640x480 with 1 Axes>"
      ]
     },
     "metadata": {},
     "output_type": "display_data"
    }
   ],
   "source": [
    "#Task 7: Створіть стовпчик із червоного та зеленого трикутників.\n",
    "\n",
    "import matplotlib.pyplot as plt\n",
    "from matplotlib.patches import Polygon\n",
    "import numpy as np\n",
    "\n",
    "# Створення фігури та осей\n",
    "fig, ax = plt.subplots()\n",
    "\n",
    "# Розмір трикутника\n",
    "triangle_size = 1\n",
    "\n",
    "# Кількість трикутників\n",
    "num_triangles = 5\n",
    "\n",
    "# Відстань між трикутниками\n",
    "distance_between_triangles = 1.5\n",
    "\n",
    "# Колір трикутника\n",
    "colors = ['red', 'green']\n",
    "\n",
    "# Створення трикутників та їх додавання до графіку\n",
    "for i in range(num_triangles):\n",
    "    x = 0\n",
    "    y = -i * distance_between_triangles\n",
    "\n",
    "    # Координати вершин трикутника\n",
    "    vertices = np.array([[x, y], [x + triangle_size, y], [x + triangle_size / 2, y + triangle_size * np.sqrt(3) / 2]])\n",
    "\n",
    "    # Створення та додавання трикутника до графіку\n",
    "    triangle = Polygon(vertices, edgecolor='black', facecolor=colors[i % len(colors)])\n",
    "    ax.add_patch(triangle)\n",
    "\n",
    "# Приховання координатної сітки та осей\n",
    "ax.set_axis_off()\n",
    "\n",
    "# Налаштування меж осей для наочності\n",
    "ax.set_xlim(-1, triangle_size * 2)\n",
    "ax.set_ylim(-num_triangles * distance_between_triangles, 1)\n",
    "ax.set_aspect('equal')\n",
    "\n",
    "plt.show()\n"
   ]
  },
  {
   "cell_type": "code",
   "execution_count": 10,
   "metadata": {},
   "outputs": [
    {
     "data": {
      "image/png": "[encoded data removed]",
      "text/plain": [
       "<Figure size 640x480 with 1 Axes>"
      ]
     },
     "metadata": {},
     "output_type": "display_data"
    }
   ],
   "source": [
    "#Task 8: Створіть список, елементами якого є диски з відтінками від 0 до 1 з кроком 0,1\n",
    "\n",
    "import matplotlib.pyplot as plt\n",
    "from matplotlib.patches import Circle\n",
    "import numpy as np\n",
    "\n",
    "# Створення фігури та осей\n",
    "fig, ax = plt.subplots()\n",
    "\n",
    "# Кількість дисків\n",
    "num_discs = 11\n",
    "\n",
    "# Крок відтінків\n",
    "shade_step = 0.1\n",
    "\n",
    "# Створення та додавання дисків до графіку\n",
    "for i in range(num_discs):\n",
    "    x = i * 1.5  # Відстань між дисками\n",
    "    y = 0\n",
    "\n",
    "    # Створення диска з відтінком від 0 до 1\n",
    "    shade = i * shade_step\n",
    "    circle = Circle((x, y), radius=0.5, edgecolor='black', facecolor=plt.cm.gray(shade), linewidth=2)\n",
    "    ax.add_patch(circle)\n",
    "\n",
    "# Приховання координатної сітки та осей\n",
    "ax.set_axis_off()\n",
    "\n",
    "# Налаштування меж осей для наочності\n",
    "ax.set_xlim(-1, num_discs * 1.5)\n",
    "ax.set_ylim(-1, 1)\n",
    "ax.set_aspect('equal')\n",
    "\n",
    "plt.show()\n",
    "\n"
   ]
  },
  {
   "cell_type": "code",
   "execution_count": 11,
   "metadata": {},
   "outputs": [
    {
     "data": {
      "application/vnd.jupyter.widget-view+json": {
       "model_id": "1df0a7de93a640259160ac670acb402e",
       "version_major": 2,
       "version_minor": 0
      },
      "text/plain": [
       "interactive(children=(IntSlider(value=1000, description='Число:', max=9999, min=1000), Output()), _dom_classes…"
      ]
     },
     "metadata": {},
     "output_type": "display_data"
    }
   ],
   "source": [
    "#Task 9: Використайте Manipulate (/в парадігмі Wolfram), щоб показати послідовності цифр із 4-значних цілих чисел (від 1000 до 9999).\n",
    "\n",
    "import ipywidgets as widgets\n",
    "from IPython.display import display\n",
    "\n",
    "# Створення віджету для вибору цифри\n",
    "digit_selector = widgets.IntSlider(value=1000, min=1000, max=9999, step=1, description='Число:')\n",
    "\n",
    "# Функція для відображення числа через декоратор \n",
    "#(бо якщо просто функцію з вибором цифри то буде нижче виводитись: <function __main__.display_number(number)>)\n",
    "@widgets.interact(number=digit_selector)\n",
    "def display_number(number):\n",
    "    print(number)\n"
   ]
  },
  {
   "cell_type": "code",
   "execution_count": 12,
   "metadata": {},
   "outputs": [
    {
     "data": {
      "application/vnd.jupyter.widget-view+json": {
       "model_id": "b605ad6721624033bac2928c69a3aab1",
       "version_major": 2,
       "version_minor": 0
      },
      "text/plain": [
       "interactive(children=(IntSlider(value=5, description='num_hexagons', max=10, min=1), FloatSlider(value=0.0, de…"
      ]
     },
     "metadata": {},
     "output_type": "display_data"
    }
   ],
   "source": [
    "#Task 10: Використайте Manipulate, щоб показати список із змінною кількістю шестикутників (від 1 до 10) із змінними відтінками.\n",
    "\n",
    "import ipywidgets as widgets\n",
    "from IPython.display import display\n",
    "import matplotlib.pyplot as plt\n",
    "from matplotlib.patches import RegularPolygon\n",
    "import numpy as np\n",
    "import random\n",
    "\n",
    "# Функція для відображення шестикутників\n",
    "@widgets.interact(num_hexagons=(1, 10), shade=(0, 1, 0.1))\n",
    "def display_hexagons(num_hexagons, shade):\n",
    "    # Створення фігури та осей\n",
    "    fig, ax = plt.subplots()\n",
    "\n",
    "    # Висота шестикутника\n",
    "    hexagon_height = np.sqrt(3)\n",
    "\n",
    "    # Створення шестикутників із заданою кількістю та відтінками\n",
    "    for i in range(num_hexagons):\n",
    "        # Випадковий колір\n",
    "        color = [random.uniform(0, 1), random.uniform(0, 1), random.uniform(0, 1)]\n",
    "\n",
    "        # Створення шестикутника з відтінком\n",
    "        hexagon = RegularPolygon((i * 1.5 + 0.75, hexagon_height + 1), numVertices=6, radius=0.5, edgecolor='black', facecolor=color)\n",
    "        \n",
    "        # Додавання шестикутника до графіку\n",
    "        ax.add_patch(hexagon)\n",
    "\n",
    "    # Приховання осей координат\n",
    "    ax.set_xticks([])\n",
    "    ax.set_yticks([])\n",
    "\n",
    "    # Налаштування меж осей для наочності\n",
    "    ax.set_xlim(0, num_hexagons * 1.5)\n",
    "    ax.set_ylim(0, 2 * hexagon_height + 1)\n",
    "    ax.set_aspect('equal')\n",
    "\n",
    "    plt.show()\n"
   ]
  },
  {
   "cell_type": "code",
   "execution_count": 13,
   "metadata": {},
   "outputs": [
    {
     "data": {
      "application/vnd.jupyter.widget-view+json": {
       "model_id": "4c9701738ddf453bba3e8c0d0fa33d36",
       "version_major": 2,
       "version_minor": 0
      },
      "text/plain": [
       "interactive(children=(IntSlider(value=2, description='n', max=5), Output()), _dom_classes=('widget-interact',)…"
      ]
     },
     "metadata": {},
     "output_type": "display_data"
    }
   ],
   "source": [
    "# Task 11: Використайте Manipulate (/в парадигме Wolfram), що показати числовий ряд значень x^n для цілого x від 1 до 10, \n",
    "# коли n змінюється від 0 до 5. \n",
    "\n",
    "import ipywidgets as widgets\n",
    "from IPython.display import display\n",
    "\n",
    "@widgets.interact(n=(0, 5))\n",
    "def plot_power_series(n):\n",
    "    x_values = list(range(1, 11))\n",
    "    y_values = [x**n for x in x_values]\n",
    "\n",
    "    plt.plot(x_values, y_values, marker='o')\n",
    "    plt.title(f'Графік x^{n}')\n",
    "    plt.xlabel('x')\n",
    "    plt.ylabel(f'x^{n}')\n",
    "    plt.grid(True)\n",
    "    plt.show()\n",
    "\n"
   ]
  },
  {
   "cell_type": "code",
   "execution_count": 14,
   "metadata": {},
   "outputs": [
    {
     "data": {
      "application/vnd.jupyter.widget-view+json": {
       "model_id": "d3ddee9ca7ff44bab91b64090423a3b8",
       "version_major": 2,
       "version_minor": 0
      },
      "text/plain": [
       "interactive(children=(IntSlider(value=0, description='random_power', max=1, min=-1), Output()), _dom_classes=(…"
      ]
     },
     "metadata": {},
     "output_type": "display_data"
    }
   ],
   "source": [
    "#Task 12: Використайте Manipulate (в парадігмі Wolfram), щоб побудувати числа від 1 до 100,\n",
    "# зведені в ступені, які можуть змінюватись рандомно від -1 до +1\n",
    "\n",
    "import ipywidgets as widgets\n",
    "from IPython.display import display\n",
    "import random\n",
    "\n",
    "#краще через декоратор робити ту задачу\n",
    "\n",
    "@widgets.interact(random_power=(-1, 1))\n",
    "def plot_random_powers(random_power):\n",
    "    x_values = list(range(1, 101))\n",
    "    y_values = [x ** random_power for x in x_values]\n",
    "\n",
    "    plt.plot(x_values, y_values, marker='o')\n",
    "    plt.title(f'Графік x^{random_power}')\n",
    "    plt.xlabel('x')\n",
    "    plt.ylabel(f'x^{random_power}')\n",
    "    plt.grid(True)\n",
    "    plt.show()\n",
    "\n"
   ]
  },
  {
   "cell_type": "code",
   "execution_count": 15,
   "metadata": {},
   "outputs": [
    {
     "data": {
      "application/vnd.jupyter.widget-view+json": {
       "model_id": "0fa208422f9741949764c724fc5d494b",
       "version_major": 2,
       "version_minor": 0
      },
      "text/plain": [
       "interactive(children=(IntSlider(value=5, description='height1', max=10), IntSlider(value=5, description='heigh…"
      ]
     },
     "metadata": {},
     "output_type": "display_data"
    }
   ],
   "source": [
    "#Task 13: Використайте Manipulate (в парадігмі Wolfram), щоб показати стовпчасту діаграму з 4 стовпцями, кожна з яких має висоту від 0 до 10. \n",
    "\n",
    "import ipywidgets as widgets\n",
    "from IPython.display import display\n",
    "\n",
    "@widgets.interact(height1=(0, 10), height2=(0, 10), height3=(0, 10), height4=(0, 10))\n",
    "def plot_bar_chart(height1, height2, height3, height4):\n",
    "    heights = [height1, height2, height3, height4]\n",
    "    columns = ['Column 1', 'Column 2', 'Column 3', 'Column 4']\n",
    "\n",
    "    plt.bar(columns, heights)\n",
    "    plt.title('Стовпчаста діаграма')\n",
    "    plt.xlabel('Стовпці')\n",
    "    plt.ylabel('Висота')\n",
    "    plt.show()\n"
   ]
  }
 ],
 "metadata": {
  "kernelspec": {
   "display_name": "base",
   "language": "python",
   "name": "python3"
  },
  "language_info": {
   "codemirror_mode": {
    "name": "ipython",
    "version": 3
   },
   "file_extension": ".py",
   "mimetype": "text/x-python",
   "name": "python",
   "nbconvert_exporter": "python",
   "pygments_lexer": "ipython3",
   "version": "3.11.5"
  }
 },
 "nbformat": 4,
 "nbformat_minor": 2
}
