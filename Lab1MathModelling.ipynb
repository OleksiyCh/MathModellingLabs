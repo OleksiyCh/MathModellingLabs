{
 "cells": [
  {
   "cell_type": "code",
   "execution_count": 57,
   "id": "66698e13-3e48-4752-94e1-04e2faa72856",
   "metadata": {},
   "outputs": [
    {
     "name": "stdout",
     "output_type": "stream",
     "text": [
      "2.62821327186677\n"
     ]
    }
   ],
   "source": [
    "from sympy import symbols, N, sqrt, sin, asin, acos\n",
    "\n",
    "from mpmath import mp\n",
    "\n",
    "# Set precision for mpmath\n",
    "mp.dps = 100  # Set precision 100 chars below zero\n",
    "\n",
    "# Task 1\n",
    "# a) (1.2)^5.3\n",
    "result_a = N(1.2**5.3)\n",
    "\n",
    "# Displaying the results\n",
    "print(result_a)"
   ]
  },
  {
   "cell_type": "code",
   "execution_count": 3,
   "id": "da4f414c-b3bb-4327-98d9-7605f2fb7df9",
   "metadata": {},
   "outputs": [
    {
     "name": "stdout",
     "output_type": "stream",
     "text": [
      "0.102402709589107\n"
     ]
    }
   ],
   "source": [
    "# b) sin(8π/245)\n",
    "result_b = N(sin(8 * 3.14159 / 245))\n",
    "\n",
    "print(result_b)"
   ]
  },
  {
   "cell_type": "code",
   "execution_count": 20,
   "id": "8662274f-13d0-4fb7-a71f-e5f2c59afa0f",
   "metadata": {},
   "outputs": [
    {
     "data": {
      "text/latex": [
       "$\\displaystyle 1.5708 - 0.62236 i$"
      ],
      "text/plain": [
       "1.5708 - 0.62236*I"
      ]
     },
     "execution_count": 20,
     "metadata": {},
     "output_type": "execute_result"
    }
   ],
   "source": [
    "# c) arcsin(1.2) with precision up to 10^(-5)\n",
    "\n",
    "result_с = N(asin(1.2))\n",
    "round(result_с, 5)"
   ]
  },
  {
   "cell_type": "code",
   "execution_count": 60,
   "id": "513d8994-6841-4303-9c3a-cffc153e1e12",
   "metadata": {},
   "outputs": [
    {
     "data": {
      "text/plain": [
       "19683.00000000001"
      ]
     },
     "execution_count": 60,
     "metadata": {},
     "output_type": "execute_result"
    }
   ],
   "source": [
    "# d) (1+3^45)^(1/5) with precision 10^(-20)\n",
    "result_d = (1 + 3**45)**(1/5)\n",
    "\n",
    "round(result_d, 20)"
   ]
  },
  {
   "cell_type": "code",
   "execution_count": 61,
   "id": "b6882cc5-4b23-41b4-b024-a1f60244c1be",
   "metadata": {},
   "outputs": [
    {
     "name": "stdout",
     "output_type": "stream",
     "text": [
      "1.57079632679490\n",
      "1.57079632679490\n"
     ]
    }
   ],
   "source": [
    "#Task2 \n",
    "\n",
    "from sympy import symbols, acos, N\n",
    "\n",
    "# Symols variables definition\n",
    "x, y = symbols('x y')\n",
    "\n",
    "# Fynction\n",
    "f = (5**x) * N(acos((x * (y**5))**(1/3)))\n",
    "\n",
    "#  x, y, z (can be entered by user)\n",
    "x_value = 0.000000000000000000000000000000000000000000000000000000000000000000000000099\n",
    "y_value = 0.000000000000000000000000000000000000000000000000000000000000000000000000077\n",
    "\n",
    "# Calculating the function with precision 10^(-20)\n",
    "result_task2 = N(f.subs({x: x_value, y: y_value}))\n",
    "\n",
    "print(result_task2)\n",
    "print(round(result_task2, 20))\n"
   ]
  },
  {
   "cell_type": "code",
   "execution_count": 62,
   "id": "fa078aa6-9c28-4d85-a23f-fdb295d08243",
   "metadata": {},
   "outputs": [
    {
     "name": "stdout",
     "output_type": "stream",
     "text": [
      "Version mpmath: 1.3.0\n"
     ]
    }
   ],
   "source": [
    "import mpmath\n",
    "\n",
    "# return version mpmath\n",
    "mpmath_version = mpmath.__version__\n",
    "\n",
    "print(\"Version mpmath:\", mpmath_version)"
   ]
  },
  {
   "cell_type": "code",
   "execution_count": 67,
   "id": "1973a206-9d0b-4432-ab85-1d797e05401e",
   "metadata": {},
   "outputs": [
    {
     "name": "stdout",
     "output_type": "stream",
     "text": [
      "Failed to find the value of n.\n"
     ]
    }
   ],
   "source": [
    "#Task 3 (the last but not the least)\n",
    "\n",
    "from sympy import symbols, sin, series, factorial, Symbol, diff, oo, limit, S, Eq, solve, N\n",
    "\n",
    "# Define symbolic variables\n",
    "x, n = symbols('x n')\n",
    "\n",
    "# Given function\n",
    "f = sin(x-2)**2\n",
    "\n",
    "# x0\n",
    "x0 = 2\n",
    "\n",
    "# Construct the series without taking the limit\n",
    "r_n_series = series(f, x, n)\n",
    "\n",
    "# Calculate the limit of the series as n approaches infinity (oo = infinity) (\"Infiniti - not Limit\" - Bazz Lighter\n",
    "limit_r_n = limit(r_n_series, n, oo)\n",
    "\n",
    "# Given precision\n",
    "epsilon = 10**(-6)\n",
    "\n",
    "# Find the value of n\n",
    "solution = solve(Eq(limit_r_n, f), n)\n",
    "\n",
    "# Check the condition | f(x) - r(x, n) | ≤ ε\n",
    "if solution:\n",
    "    r_n_limit = r_n_series.subs(n, solution[0])\n",
    "    if abs(N(r_n_limit) - N(f)) <= epsilon:\n",
    "        print(\"Value of n:\", solution[0])\n",
    "    else:\n",
    "        print(\"Failed to find the value of n with the specified precision.\")\n",
    "else:\n",
    "    print(\"Failed to find the value of n.\")"
   ]
  },
  {
   "cell_type": "code",
   "execution_count": null,
   "id": "4961d439-b418-4051-9957-ed433df3ae46",
   "metadata": {},
   "outputs": [],
   "source": []
  }
 ],
 "metadata": {
  "kernelspec": {
   "display_name": "Python 3 (ipykernel)",
   "language": "python",
   "name": "python3"
  },
  "language_info": {
   "codemirror_mode": {
    "name": "ipython",
    "version": 3
   },
   "file_extension": ".py",
   "mimetype": "text/x-python",
   "name": "python",
   "nbconvert_exporter": "python",
   "pygments_lexer": "ipython3",
   "version": "3.11.6"
  }
 },
 "nbformat": 4,
 "nbformat_minor": 5
}
