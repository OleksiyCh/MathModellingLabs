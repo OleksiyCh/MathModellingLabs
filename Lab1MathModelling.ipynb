{
 "cells": [
  {
   "cell_type": "code",
   "execution_count": 2,
   "id": "66698e13-3e48-4752-94e1-04e2faa72856",
   "metadata": {},
   "outputs": [
    {
     "name": "stdout",
     "output_type": "stream",
     "text": [
      "2.62821327186677\n"
     ]
    }
   ],
   "source": [
    "import sympy as sp\n",
    "\n",
    "from sympy import symbols, N, sqrt, sin, asin, acos\n",
    "\n",
    "from mpmath import mp\n",
    "\n",
    "# Set precision for mpmath\n",
    "mp.dps = 100  # Set precision 100 chars below zero\n",
    "\n",
    "# Task 1\n",
    "# a) (1.2)^5.3\n",
    "result_a = N(1.2**5.3)\n",
    "\n",
    "# Displaying the results\n",
    "print(result_a)"
   ]
  },
  {
   "cell_type": "code",
   "execution_count": 3,
   "id": "da4f414c-b3bb-4327-98d9-7605f2fb7df9",
   "metadata": {},
   "outputs": [
    {
     "name": "stdout",
     "output_type": "stream",
     "text": [
      "0.102402709589107\n"
     ]
    }
   ],
   "source": [
    "# b) sin(8π/245)\n",
    "result_b = N(sin(8 * 3.14159 / 245))\n",
    "\n",
    "print(result_b)"
   ]
  },
  {
   "cell_type": "code",
   "execution_count": 4,
   "id": "8662274f-13d0-4fb7-a71f-e5f2c59afa0f",
   "metadata": {},
   "outputs": [
    {
     "data": {
      "text/latex": [
       "$\\displaystyle 1.5708 - 0.62236 i$"
      ],
      "text/plain": [
       "1.5708 - 0.62236*I"
      ]
     },
     "execution_count": 4,
     "metadata": {},
     "output_type": "execute_result"
    }
   ],
   "source": [
    "# c) arcsin(1.2) with precision up to 10^(-5)\n",
    "\n",
    "result_с = N(asin(1.2))\n",
    "round(result_с, 5)"
   ]
  },
  {
   "cell_type": "code",
   "execution_count": 5,
   "id": "513d8994-6841-4303-9c3a-cffc153e1e12",
   "metadata": {},
   "outputs": [
    {
     "data": {
      "text/plain": [
       "19683.00000000001"
      ]
     },
     "execution_count": 5,
     "metadata": {},
     "output_type": "execute_result"
    }
   ],
   "source": [
    "# d) (1+3^45)^(1/5) with precision 10^(-20)\n",
    "result_d = (1 + 3**45)**(1/5)\n",
    "\n",
    "round(result_d, 20)"
   ]
  },
  {
   "cell_type": "code",
   "execution_count": 6,
   "id": "b6882cc5-4b23-41b4-b024-a1f60244c1be",
   "metadata": {},
   "outputs": [
    {
     "name": "stdout",
     "output_type": "stream",
     "text": [
      "4.78715185954508\n",
      "4.78715185954508\n"
     ]
    }
   ],
   "source": [
    "#Task2 \n",
    "\n",
    "from sympy import symbols, acos, N\n",
    "\n",
    "# Symols variables definition\n",
    "x, y = symbols('x y')\n",
    "\n",
    "# Fynction\n",
    "f = (5**x) * N(acos((x * (y**5))**(1/3)))\n",
    "\n",
    "#  x, y, z (can be entered by user)\n",
    "x_value = 0.7\n",
    "y_value = 0.1\n",
    "\n",
    "# Calculating the function with precision 10^(-20)\n",
    "result_task2 = N(f.subs({x: x_value, y: y_value}))\n",
    "\n",
    "print(result_task2)\n",
    "print(round(result_task2, 20))\n"
   ]
  },
  {
   "cell_type": "code",
   "execution_count": 7,
   "id": "fa078aa6-9c28-4d85-a23f-fdb295d08243",
   "metadata": {},
   "outputs": [
    {
     "name": "stdout",
     "output_type": "stream",
     "text": [
      "Version mpmath: 1.3.0\n"
     ]
    }
   ],
   "source": [
    "import mpmath\n",
    "\n",
    "# return version mpmath\n",
    "mpmath_version = mpmath.__version__\n",
    "\n",
    "print(\"Version mpmath:\", mpmath_version)"
   ]
  },
  {
   "cell_type": "code",
   "execution_count": 8,
   "id": "4961d439-b418-4051-9957-ed433df3ae46",
   "metadata": {},
   "outputs": [
    {
     "name": "stdout",
     "output_type": "stream",
     "text": [
      "The value of n for which |f(x) - r(x, n)| ≤ ε: 1\n"
     ]
    }
   ],
   "source": [
    "#Task 3 (the last but not the least)\n",
    "\n",
    "from sympy import symbols, sin, limit\n",
    "\n",
    "# Define the variable x\n",
    "x = symbols('x')\n",
    "\n",
    "# Define the function f(x)\n",
    "f = sp.sin(x-2)**2\n",
    "\n",
    "# Set the point x0\n",
    "x0 = 2\n",
    "\n",
    "# Set the desired accuracy ε\n",
    "epsilon = 10**(-6)\n",
    "\n",
    "# Initialize n\n",
    "n = 1\n",
    "\n",
    "# Iterate until the condition is met\n",
    "while True:\n",
    "    # Calculate the limit of f(x) as n approaches infinity (oo = infinity) \n",
    "    limit_value = limit(f, x, x0)\n",
    "\n",
    "    # Calculate the absolute difference between f(x) and limit_value\n",
    "    absolute_difference = abs(f.evalf(subs={x: x0}) - limit_value.evalf(subs={x: x0}))\n",
    "\n",
    "    # Check if the condition is met\n",
    "    if absolute_difference <= epsilon:\n",
    "        break\n",
    "\n",
    "    # Increase n for the next iteration\n",
    "    n += 1\n",
    "\n",
    "# Print the value of n at which the condition is met\n",
    "print(\"The value of n for which |f(x) - r(x, n)| ≤ ε:\", n)"
   ]
  },
  {
   "cell_type": "code",
   "execution_count": 9,
   "id": "ee7a3d93-b9e7-4c4f-bc3e-4aa07aa44db1",
   "metadata": {},
   "outputs": [
    {
     "data": {
      "text/latex": [
       "$\\displaystyle \\left(x - 2\\right)^{2} - \\frac{\\left(x - 2\\right)^{4}}{3} + \\frac{2 \\left(x - 2\\right)^{6}}{45} - \\frac{\\left(x - 2\\right)^{8}}{315} + O\\left(\\left(x - 2\\right)^{10}; x\\rightarrow 2\\right)$"
      ],
      "text/plain": [
       "(x - 2)**2 - (x - 2)**4/3 + 2*(x - 2)**6/45 - (x - 2)**8/315 + O((x - 2)**10, (x, 2))"
      ]
     },
     "execution_count": 9,
     "metadata": {},
     "output_type": "execute_result"
    }
   ],
   "source": [
    "# Define the variable x\n",
    "x = sp.symbols('x')\n",
    "\n",
    "# Define the function f(x)\n",
    "f = sp.sin(x-2)**2\n",
    "\n",
    "# Set the point x0\n",
    "x0 = 2\n",
    "\n",
    "# Set the desired accuracy ε\n",
    "epsilon = 10**(-6)\n",
    "n = 10\n",
    "\n",
    "series_expansion = sp.series(f, x, x0, n)\n",
    "series_expansion"
   ]
  },
  {
   "cell_type": "code",
   "execution_count": 10,
   "id": "0abae418-76de-4065-80a9-47b24db4799e",
   "metadata": {},
   "outputs": [
    {
     "data": {
      "text/latex": [
       "$\\displaystyle O\\left(0\\right)$"
      ],
      "text/plain": [
       "O(0)"
      ]
     },
     "execution_count": 10,
     "metadata": {},
     "output_type": "execute_result"
    }
   ],
   "source": [
    "result = series_expansion.subs(x,x0).evalf()\n",
    "result"
   ]
  }
 ],
 "metadata": {
  "kernelspec": {
   "display_name": "Python 3 (ipykernel)",
   "language": "python",
   "name": "python3"
  },
  "language_info": {
   "codemirror_mode": {
    "name": "ipython",
    "version": 3
   },
   "file_extension": ".py",
   "mimetype": "text/x-python",
   "name": "python",
   "nbconvert_exporter": "python",
   "pygments_lexer": "ipython3",
   "version": "3.11.5"
  }
 },
 "nbformat": 4,
 "nbformat_minor": 5
}
